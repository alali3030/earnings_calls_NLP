{
 "cells": [
  {
   "cell_type": "code",
   "execution_count": 1,
   "metadata": {},
   "outputs": [],
   "source": [
    "#import libraries for pdf reading, spacy, pandas\n",
    "import io\n",
    "from pdfminer.converter import TextConverter\n",
    "from pdfminer.pdfinterp import PDFPageInterpreter\n",
    "from pdfminer.pdfinterp import PDFResourceManager\n",
    "from pdfminer.pdfpage import PDFPage\n",
    "\n",
    "import spacy\n",
    "import pandas as pd\n",
    "import spacy\n",
    "nlp = spacy.load('en_core_web_md')"
   ]
  },
  {
   "cell_type": "code",
   "execution_count": 2,
   "metadata": {},
   "outputs": [],
   "source": [
    "# create function for reading pdf into a list of pages\n",
    "def extract_text_by_page(pdf_path):\n",
    "    with open(pdf_path, 'rb') as fh:\n",
    "        for page in PDFPage.get_pages(fh, \n",
    "                                      caching=True,\n",
    "                                      check_extractable=True):\n",
    "            resource_manager = PDFResourceManager()\n",
    "            fake_file_handle = io.StringIO()\n",
    "            converter = TextConverter(resource_manager, fake_file_handle)\n",
    "            page_interpreter = PDFPageInterpreter(resource_manager, converter)\n",
    "            page_interpreter.process_page(page)\n",
    "            text = fake_file_handle.getvalue()\n",
    "            yield text\n",
    "            # close open handles\n",
    "            converter.close()\n",
    "            fake_file_handle.close()\n",
    "def extract_text(pdf_path):\n",
    "    content=[]\n",
    "    for page in extract_text_by_page(pdf_path):\n",
    "        content.append(page)\n",
    "    return content"
   ]
  },
  {
   "cell_type": "code",
   "execution_count": 5,
   "metadata": {},
   "outputs": [],
   "source": [
    "#use function to read Microsoft's transcripts pdf\n",
    "txt1 = extract_text('Transcript batch1 2019.pdf')"
   ]
  },
  {
   "cell_type": "code",
   "execution_count": 9,
   "metadata": {},
   "outputs": [],
   "source": [
    "df1 = pd.DataFrame(txt1, columns = ['text'])\n",
    "\n",
    "df1.to_csv('Transcript batch1 2019.csv')"
   ]
  },
  {
   "cell_type": "code",
   "execution_count": 3,
   "metadata": {},
   "outputs": [],
   "source": [
    "txt2 = extract_text('Transcript batch2 2019.pdf')"
   ]
  },
  {
   "cell_type": "code",
   "execution_count": 12,
   "metadata": {},
   "outputs": [],
   "source": [
    "df2 = pd.DataFrame(txt2, columns = ['text'])\n",
    "\n",
    "df2.to_csv('Transcript batch2 2019.csv')"
   ]
  },
  {
   "cell_type": "code",
   "execution_count": 11,
   "metadata": {},
   "outputs": [],
   "source": [
    "txt3 = extract_text('Transcript batch3 2019.pdf')"
   ]
  },
  {
   "cell_type": "code",
   "execution_count": 13,
   "metadata": {},
   "outputs": [],
   "source": [
    "df3 = pd.DataFrame(txt3, columns = ['text'])\n",
    "\n",
    "df3.to_csv('Transcript batch3 2019.csv')"
   ]
  },
  {
   "cell_type": "code",
   "execution_count": 14,
   "metadata": {},
   "outputs": [],
   "source": [
    "txt4 = extract_text('Transcript batch4 2019.pdf')"
   ]
  },
  {
   "cell_type": "code",
   "execution_count": 15,
   "metadata": {},
   "outputs": [],
   "source": [
    "df4 = pd.DataFrame(txt4, columns = ['text'])\n",
    "\n",
    "df4.to_csv('Transcript batch4 2019.csv')"
   ]
  },
  {
   "cell_type": "code",
   "execution_count": 16,
   "metadata": {},
   "outputs": [],
   "source": [
    "pdlist = [df1, df2, df3, df4]\n",
    "dft = pd.concat(pdlist)"
   ]
  },
  {
   "cell_type": "code",
   "execution_count": 131,
   "metadata": {},
   "outputs": [
    {
     "data": {
      "text/plain": [
       "(12907, 10)"
      ]
     },
     "execution_count": 131,
     "metadata": {},
     "output_type": "execute_result"
    }
   ],
   "source": [
    "dft.shape"
   ]
  },
  {
   "cell_type": "code",
   "execution_count": 18,
   "metadata": {},
   "outputs": [],
   "source": [
    "txt5 = extract_text('Transcript batch5 2019.pdf')"
   ]
  },
  {
   "cell_type": "code",
   "execution_count": 19,
   "metadata": {},
   "outputs": [],
   "source": [
    "df5 = pd.DataFrame(txt5, columns = ['text'])\n",
    "\n",
    "df5.to_csv('Transcript batch5 2019.csv')"
   ]
  },
  {
   "cell_type": "code",
   "execution_count": 135,
   "metadata": {},
   "outputs": [],
   "source": [
    "pdlist = [df1, df2, df3, df4, df5]"
   ]
  },
  {
   "cell_type": "code",
   "execution_count": 136,
   "metadata": {},
   "outputs": [
    {
     "data": {
      "text/html": [
       "<div>\n",
       "<style scoped>\n",
       "    .dataframe tbody tr th:only-of-type {\n",
       "        vertical-align: middle;\n",
       "    }\n",
       "\n",
       "    .dataframe tbody tr th {\n",
       "        vertical-align: top;\n",
       "    }\n",
       "\n",
       "    .dataframe thead th {\n",
       "        text-align: right;\n",
       "    }\n",
       "</style>\n",
       "<table border=\"1\" class=\"dataframe\">\n",
       "  <thead>\n",
       "    <tr style=\"text-align: right;\">\n",
       "      <th></th>\n",
       "      <th>text</th>\n",
       "    </tr>\n",
       "  </thead>\n",
       "  <tbody>\n",
       "    <tr>\n",
       "      <td>0</td>\n",
       "      <td>COPYRIGHT © 2019 S&amp;P Global Market Intelligen...</td>\n",
       "    </tr>\n",
       "    <tr>\n",
       "      <td>1</td>\n",
       "      <td>ContentsCOPYRIGHT © 2019 S&amp;P Global Market Int...</td>\n",
       "    </tr>\n",
       "    <tr>\n",
       "      <td>2</td>\n",
       "      <td>BANCO BRADESCO S.A. SPECIAL CALL |  MAY 06, 20...</td>\n",
       "    </tr>\n",
       "    <tr>\n",
       "      <td>3</td>\n",
       "      <td>BANCO BRADESCO S.A. SPECIAL CALL |  MAY 06, 20...</td>\n",
       "    </tr>\n",
       "    <tr>\n",
       "      <td>4</td>\n",
       "      <td>BANCO BRADESCO S.A. SPECIAL CALL |  MAY 06, 20...</td>\n",
       "    </tr>\n",
       "  </tbody>\n",
       "</table>\n",
       "</div>"
      ],
      "text/plain": [
       "                                                text\n",
       "0   COPYRIGHT © 2019 S&P Global Market Intelligen...\n",
       "1  ContentsCOPYRIGHT © 2019 S&P Global Market Int...\n",
       "2  BANCO BRADESCO S.A. SPECIAL CALL |  MAY 06, 20...\n",
       "3  BANCO BRADESCO S.A. SPECIAL CALL |  MAY 06, 20...\n",
       "4  BANCO BRADESCO S.A. SPECIAL CALL |  MAY 06, 20..."
      ]
     },
     "execution_count": 136,
     "metadata": {},
     "output_type": "execute_result"
    }
   ],
   "source": [
    "#convert list to dataframe\n",
    "df = pd.concat(pdlist)\n",
    "\n",
    "df.head()"
   ]
  },
  {
   "cell_type": "code",
   "execution_count": 140,
   "metadata": {},
   "outputs": [],
   "source": [
    "#split page by sentences, list of strings\n",
    "df['txt_list'] = None\n",
    "\n",
    "for i in range(len(df['text'])):\n",
    "    txt_list = []\n",
    "    for sent in nlp(df['text'].iloc[i]).sents:\n",
    "        txt_list.append(sent)\n",
    "    df['txt_list'].iloc[i] = txt_list"
   ]
  },
  {
   "cell_type": "code",
   "execution_count": 259,
   "metadata": {},
   "outputs": [
    {
     "name": "stderr",
     "output_type": "stream",
     "text": [
      "/Users/ahmedalali/anaconda3/lib/python3.6/site-packages/pandas/core/indexing.py:205: SettingWithCopyWarning: \n",
      "A value is trying to be set on a copy of a slice from a DataFrame\n",
      "\n",
      "See the caveats in the documentation: http://pandas.pydata.org/pandas-docs/stable/user_guide/indexing.html#returning-a-view-versus-a-copy\n",
      "  self._setitem_with_indexer(indexer, value)\n"
     ]
    }
   ],
   "source": [
    "#use first sentence as a heading\n",
    "df['heading'] = None\n",
    "\n",
    "for i in range(len(df['txt_list'])):\n",
    "    df['heading'].iloc[i] = str(df['txt_list'].iloc[i][0])"
   ]
  },
  {
   "cell_type": "code",
   "execution_count": 277,
   "metadata": {},
   "outputs": [],
   "source": [
    "#tage documents\n",
    "df['match'] = None\n",
    "for i in range(len(df['heading'])):\n",
    "    if ((df['heading'].iloc[i] == df['heading'].iloc[i-1]) or (df['heading'].iloc[i] == df['heading'].iloc[i+1])) and ('|' in df['text'].iloc[i]):\n",
    "        df['match'].iloc[i] = True\n",
    "    else:\n",
    "        df['match'].iloc[i] = False"
   ]
  },
  {
   "cell_type": "code",
   "execution_count": 273,
   "metadata": {},
   "outputs": [
    {
     "data": {
      "text/html": [
       "<div>\n",
       "<style scoped>\n",
       "    .dataframe tbody tr th:only-of-type {\n",
       "        vertical-align: middle;\n",
       "    }\n",
       "\n",
       "    .dataframe tbody tr th {\n",
       "        vertical-align: top;\n",
       "    }\n",
       "\n",
       "    .dataframe thead th {\n",
       "        text-align: right;\n",
       "    }\n",
       "</style>\n",
       "<table border=\"1\" class=\"dataframe\">\n",
       "  <thead>\n",
       "    <tr style=\"text-align: right;\">\n",
       "      <th></th>\n",
       "      <th>text</th>\n",
       "      <th>doc</th>\n",
       "      <th>dates</th>\n",
       "      <th>txt_list</th>\n",
       "      <th>heading</th>\n",
       "      <th>match</th>\n",
       "      <th>company</th>\n",
       "      <th>date</th>\n",
       "    </tr>\n",
       "  </thead>\n",
       "  <tbody>\n",
       "    <tr>\n",
       "      <td>0</td>\n",
       "      <td>COPYRIGHT © 2019 S&amp;P Global Market Intelligen...</td>\n",
       "      <td>other</td>\n",
       "      <td>None</td>\n",
       "      <td>[( , COPYRIGHT, ©, 2019, S&amp;P, Global, Market, ...</td>\n",
       "      <td>COPYRIGHT © 2019 S&amp;P Global Market Intelligen...</td>\n",
       "      <td>False</td>\n",
       "      <td>(BANCO, BRADESCO)</td>\n",
       "      <td>None</td>\n",
       "    </tr>\n",
       "    <tr>\n",
       "      <td>1</td>\n",
       "      <td>ContentsCOPYRIGHT © 2019 S&amp;P Global Market Int...</td>\n",
       "      <td>other</td>\n",
       "      <td>None</td>\n",
       "      <td>[(ContentsCOPYRIGHT, ©, 2019, S&amp;P, Global, Mar...</td>\n",
       "      <td>ContentsCOPYRIGHT © 2019 S&amp;P Global Market Int...</td>\n",
       "      <td>False</td>\n",
       "      <td>(BANCO, BRADESCO)</td>\n",
       "      <td>None</td>\n",
       "    </tr>\n",
       "    <tr>\n",
       "      <td>2</td>\n",
       "      <td>BANCO BRADESCO S.A. SPECIAL CALL |  MAY 06, 20...</td>\n",
       "      <td>other</td>\n",
       "      <td>MAY 06, 2019</td>\n",
       "      <td>[(BANCO, BRADESCO, S.A., SPECIAL, CALL, |,  ),...</td>\n",
       "      <td>BANCO BRADESCO S.A. SPECIAL CALL |</td>\n",
       "      <td>True</td>\n",
       "      <td>(BANCO, BRADESCO)</td>\n",
       "      <td>None</td>\n",
       "    </tr>\n",
       "    <tr>\n",
       "      <td>3</td>\n",
       "      <td>BANCO BRADESCO S.A. SPECIAL CALL |  MAY 06, 20...</td>\n",
       "      <td>other</td>\n",
       "      <td>MAY 06, 2019</td>\n",
       "      <td>[(BANCO, BRADESCO, S.A., SPECIAL, CALL, |,  ),...</td>\n",
       "      <td>BANCO BRADESCO S.A. SPECIAL CALL |</td>\n",
       "      <td>True</td>\n",
       "      <td>(BANCO, BRADESCO)</td>\n",
       "      <td>None</td>\n",
       "    </tr>\n",
       "    <tr>\n",
       "      <td>4</td>\n",
       "      <td>BANCO BRADESCO S.A. SPECIAL CALL |  MAY 06, 20...</td>\n",
       "      <td>other</td>\n",
       "      <td>MAY 06, 2019</td>\n",
       "      <td>[(BANCO, BRADESCO, S.A., SPECIAL, CALL, |,  ),...</td>\n",
       "      <td>BANCO BRADESCO S.A. SPECIAL CALL |</td>\n",
       "      <td>True</td>\n",
       "      <td>(BANCO, BRADESCO)</td>\n",
       "      <td>None</td>\n",
       "    </tr>\n",
       "  </tbody>\n",
       "</table>\n",
       "</div>"
      ],
      "text/plain": [
       "                                                text    doc         dates  \\\n",
       "0   COPYRIGHT © 2019 S&P Global Market Intelligen...  other          None   \n",
       "1  ContentsCOPYRIGHT © 2019 S&P Global Market Int...  other          None   \n",
       "2  BANCO BRADESCO S.A. SPECIAL CALL |  MAY 06, 20...  other  MAY 06, 2019   \n",
       "3  BANCO BRADESCO S.A. SPECIAL CALL |  MAY 06, 20...  other  MAY 06, 2019   \n",
       "4  BANCO BRADESCO S.A. SPECIAL CALL |  MAY 06, 20...  other  MAY 06, 2019   \n",
       "\n",
       "                                            txt_list  \\\n",
       "0  [( , COPYRIGHT, ©, 2019, S&P, Global, Market, ...   \n",
       "1  [(ContentsCOPYRIGHT, ©, 2019, S&P, Global, Mar...   \n",
       "2  [(BANCO, BRADESCO, S.A., SPECIAL, CALL, |,  ),...   \n",
       "3  [(BANCO, BRADESCO, S.A., SPECIAL, CALL, |,  ),...   \n",
       "4  [(BANCO, BRADESCO, S.A., SPECIAL, CALL, |,  ),...   \n",
       "\n",
       "                                             heading  match  \\\n",
       "0   COPYRIGHT © 2019 S&P Global Market Intelligen...  False   \n",
       "1  ContentsCOPYRIGHT © 2019 S&P Global Market Int...  False   \n",
       "2               BANCO BRADESCO S.A. SPECIAL CALL |     True   \n",
       "3               BANCO BRADESCO S.A. SPECIAL CALL |     True   \n",
       "4               BANCO BRADESCO S.A. SPECIAL CALL |     True   \n",
       "\n",
       "             company  date  \n",
       "0  (BANCO, BRADESCO)  None  \n",
       "1  (BANCO, BRADESCO)  None  \n",
       "2  (BANCO, BRADESCO)  None  \n",
       "3  (BANCO, BRADESCO)  None  \n",
       "4  (BANCO, BRADESCO)  None  "
      ]
     },
     "execution_count": 273,
     "metadata": {},
     "output_type": "execute_result"
    }
   ],
   "source": [
    "df.head()"
   ]
  },
  {
   "cell_type": "markdown",
   "metadata": {},
   "source": [
    "### Restart here"
   ]
  },
  {
   "cell_type": "code",
   "execution_count": 222,
   "metadata": {},
   "outputs": [
    {
     "name": "stderr",
     "output_type": "stream",
     "text": [
      "/Users/ahmedalali/anaconda3/lib/python3.6/site-packages/pandas/core/indexing.py:205: SettingWithCopyWarning: \n",
      "A value is trying to be set on a copy of a slice from a DataFrame\n",
      "\n",
      "See the caveats in the documentation: http://pandas.pydata.org/pandas-docs/stable/user_guide/indexing.html#returning-a-view-versus-a-copy\n",
      "  self._setitem_with_indexer(indexer, value)\n"
     ]
    }
   ],
   "source": [
    "#label documents for earnings calls and extract dates\n",
    "df['doc'] = None\n",
    "for i in range(len(df['text'])):\n",
    "    if ('Earnings Call Transcripts' in df['text'].iloc[i]) or ('EARNINGS CALL |' in df['text'].iloc[i]):\n",
    "        df['doc'].iloc[i] = 'earnings call'\n",
    "    else:\n",
    "        df['doc'].iloc[i] = 'other'"
   ]
  },
  {
   "cell_type": "code",
   "execution_count": 309,
   "metadata": {},
   "outputs": [
    {
     "name": "stderr",
     "output_type": "stream",
     "text": [
      "/Users/ahmedalali/anaconda3/lib/python3.6/site-packages/pandas/core/indexing.py:205: SettingWithCopyWarning: \n",
      "A value is trying to be set on a copy of a slice from a DataFrame\n",
      "\n",
      "See the caveats in the documentation: http://pandas.pydata.org/pandas-docs/stable/user_guide/indexing.html#returning-a-view-versus-a-copy\n",
      "  self._setitem_with_indexer(indexer, value)\n"
     ]
    }
   ],
   "source": [
    "#for i in range(len(df['doc'])):\n",
    "#    if (df['doc'].iloc[i] == 'other') and (df['doc'].iloc[i-1] == 'earnings call') and (df['doc'].iloc[i+1] == 'earnings call'):\n",
    "#        df['doc'].iloc[i] = 'earnings call'"
   ]
  },
  {
   "cell_type": "code",
   "execution_count": 315,
   "metadata": {},
   "outputs": [
    {
     "data": {
      "text/plain": [
       "'FH2'"
      ]
     },
     "execution_count": 315,
     "metadata": {},
     "output_type": "execute_result"
    }
   ],
   "source": [
    "df['text'].iloc[3470][11:14]"
   ]
  },
  {
   "cell_type": "code",
   "execution_count": 316,
   "metadata": {},
   "outputs": [
    {
     "name": "stderr",
     "output_type": "stream",
     "text": [
      "/Users/ahmedalali/anaconda3/lib/python3.6/site-packages/pandas/core/indexing.py:205: SettingWithCopyWarning: \n",
      "A value is trying to be set on a copy of a slice from a DataFrame\n",
      "\n",
      "See the caveats in the documentation: http://pandas.pydata.org/pandas-docs/stable/user_guide/indexing.html#returning-a-view-versus-a-copy\n",
      "  self._setitem_with_indexer(indexer, value)\n"
     ]
    }
   ],
   "source": [
    "df['dates'] = None\n",
    "\n",
    "for i in range(len(df['text'])):\n",
    "    if df['match'].iloc[i] == True: \n",
    "        x = df['text'].iloc[i].split()\n",
    "        #print(i)\n",
    "        df['dates'].iloc[i] = ' '.join(x[x.index('|')+1:x.index('|')+4])[:-9]"
   ]
  },
  {
   "cell_type": "code",
   "execution_count": 317,
   "metadata": {},
   "outputs": [
    {
     "data": {
      "text/html": [
       "<div>\n",
       "<style scoped>\n",
       "    .dataframe tbody tr th:only-of-type {\n",
       "        vertical-align: middle;\n",
       "    }\n",
       "\n",
       "    .dataframe tbody tr th {\n",
       "        vertical-align: top;\n",
       "    }\n",
       "\n",
       "    .dataframe thead th {\n",
       "        text-align: right;\n",
       "    }\n",
       "</style>\n",
       "<table border=\"1\" class=\"dataframe\">\n",
       "  <thead>\n",
       "    <tr style=\"text-align: right;\">\n",
       "      <th></th>\n",
       "      <th>text</th>\n",
       "      <th>doc</th>\n",
       "      <th>dates</th>\n",
       "      <th>txt_list</th>\n",
       "      <th>heading</th>\n",
       "      <th>match</th>\n",
       "      <th>company</th>\n",
       "      <th>date</th>\n",
       "    </tr>\n",
       "  </thead>\n",
       "  <tbody>\n",
       "    <tr>\n",
       "      <td>3470</td>\n",
       "      <td>AEGON N.V. FH2 2018 EARNINGS CALL |  FEB 14, 2...</td>\n",
       "      <td>earnings call</td>\n",
       "      <td>FEB 14, 2019</td>\n",
       "      <td>[(AEGON, N.V., FH2, 2018, EARNINGS, CALL, |,  ...</td>\n",
       "      <td>AEGON N.V. FH2 2018 EARNINGS CALL |  FEB 14,</td>\n",
       "      <td>True</td>\n",
       "      <td>(AEGON, N.V.)</td>\n",
       "      <td>[February, 14, 2019]</td>\n",
       "    </tr>\n",
       "    <tr>\n",
       "      <td>3471</td>\n",
       "      <td>AEGON N.V. FH2 2018 EARNINGS CALL |  FEB 14, 2...</td>\n",
       "      <td>earnings call</td>\n",
       "      <td>FEB 14, 2019</td>\n",
       "      <td>[(AEGON, N.V., FH2, 2018, EARNINGS, CALL, |,  ...</td>\n",
       "      <td>AEGON N.V. FH2 2018 EARNINGS CALL |  FEB 14,</td>\n",
       "      <td>True</td>\n",
       "      <td>(AEGON, N.V.)</td>\n",
       "      <td>[February, 14, 2019]</td>\n",
       "    </tr>\n",
       "    <tr>\n",
       "      <td>3472</td>\n",
       "      <td>AEGON N.V. FH2 2018 EARNINGS CALL |  FEB 14, 2...</td>\n",
       "      <td>earnings call</td>\n",
       "      <td>FEB 14, 2019</td>\n",
       "      <td>[(AEGON, N.V., FH2, 2018, EARNINGS, CALL, |,  ...</td>\n",
       "      <td>AEGON N.V. FH2 2018 EARNINGS CALL |  FEB 14,</td>\n",
       "      <td>True</td>\n",
       "      <td>(AEGON, N.V.)</td>\n",
       "      <td>[February, 14, 2019]</td>\n",
       "    </tr>\n",
       "    <tr>\n",
       "      <td>3473</td>\n",
       "      <td>AEGON N.V. FH2 2018 EARNINGS CALL |  FEB 14, 2...</td>\n",
       "      <td>earnings call</td>\n",
       "      <td>FEB 14, 2019</td>\n",
       "      <td>[(AEGON, N.V., FH2, 2018, EARNINGS, CALL, |,  ...</td>\n",
       "      <td>AEGON N.V. FH2 2018 EARNINGS CALL |  FEB 14,</td>\n",
       "      <td>True</td>\n",
       "      <td>(AEGON, N.V.)</td>\n",
       "      <td>[February, 14, 2019]</td>\n",
       "    </tr>\n",
       "    <tr>\n",
       "      <td>3474</td>\n",
       "      <td>AEGON N.V. FH2 2018 EARNINGS CALL |  FEB 14, 2...</td>\n",
       "      <td>earnings call</td>\n",
       "      <td>FEB 14, 2019</td>\n",
       "      <td>[(AEGON, N.V., FH2, 2018, EARNINGS, CALL, |,  ...</td>\n",
       "      <td>AEGON N.V. FH2 2018 EARNINGS CALL |  FEB 14,</td>\n",
       "      <td>True</td>\n",
       "      <td>(AEGON, N.V.)</td>\n",
       "      <td>[February, 14, 2019]</td>\n",
       "    </tr>\n",
       "    <tr>\n",
       "      <td>3475</td>\n",
       "      <td>COPYRIGHT © 2019 S&amp;P Global Market Intelligen...</td>\n",
       "      <td>earnings call</td>\n",
       "      <td>None</td>\n",
       "      <td>[( , COPYRIGHT, ©, 2019, S&amp;P, Global, Market, ...</td>\n",
       "      <td>COPYRIGHT © 2019 S&amp;P Global Market Intelligen...</td>\n",
       "      <td>False</td>\n",
       "      <td>(ContentsCOPYRIGHT, ©)</td>\n",
       "      <td>[February, 14, 2019]</td>\n",
       "    </tr>\n",
       "    <tr>\n",
       "      <td>3476</td>\n",
       "      <td>ContentsCOPYRIGHT © 2019 S&amp;P Global Market Int...</td>\n",
       "      <td>other</td>\n",
       "      <td>None</td>\n",
       "      <td>[(ContentsCOPYRIGHT, ©, 2019, S&amp;P, Global, Mar...</td>\n",
       "      <td>ContentsCOPYRIGHT © 2019 S&amp;P Global Market Int...</td>\n",
       "      <td>False</td>\n",
       "      <td>(ContentsCOPYRIGHT, ©)</td>\n",
       "      <td>[February, 14, 2019]</td>\n",
       "    </tr>\n",
       "    <tr>\n",
       "      <td>3477</td>\n",
       "      <td>ContentsCOPYRIGHT © 2019 S&amp;P Global Market Int...</td>\n",
       "      <td>other</td>\n",
       "      <td>None</td>\n",
       "      <td>[(ContentsCOPYRIGHT, ©, 2019, S&amp;P, Global, Mar...</td>\n",
       "      <td>ContentsCOPYRIGHT © 2019 S&amp;P Global Market Int...</td>\n",
       "      <td>False</td>\n",
       "      <td>(ContentsCOPYRIGHT, ©)</td>\n",
       "      <td>[February, 14, 2019]</td>\n",
       "    </tr>\n",
       "    <tr>\n",
       "      <td>3478</td>\n",
       "      <td>AMERICAN INTERNATIONAL GROUP, INC. FQ4 2018 EA...</td>\n",
       "      <td>earnings call</td>\n",
       "      <td>FEB 14, 2019</td>\n",
       "      <td>[(AMERICAN, INTERNATIONAL, GROUP, ,), (INC, .,...</td>\n",
       "      <td>AMERICAN INTERNATIONAL GROUP,</td>\n",
       "      <td>True</td>\n",
       "      <td>(AMERICAN, INTERNATIONAL)</td>\n",
       "      <td>[February, 14, 2019]</td>\n",
       "    </tr>\n",
       "    <tr>\n",
       "      <td>3479</td>\n",
       "      <td>AMERICAN INTERNATIONAL GROUP, INC. FQ4 2018 EA...</td>\n",
       "      <td>earnings call</td>\n",
       "      <td>FEB 14, 2019</td>\n",
       "      <td>[(AMERICAN, INTERNATIONAL, GROUP, ,), (INC, .,...</td>\n",
       "      <td>AMERICAN INTERNATIONAL GROUP,</td>\n",
       "      <td>True</td>\n",
       "      <td>(AMERICAN, INTERNATIONAL)</td>\n",
       "      <td>[February, 14, 2019]</td>\n",
       "    </tr>\n",
       "    <tr>\n",
       "      <td>3480</td>\n",
       "      <td>AMERICAN INTERNATIONAL GROUP, INC. FQ4 2018 EA...</td>\n",
       "      <td>earnings call</td>\n",
       "      <td>FEB 14, 2019</td>\n",
       "      <td>[(AMERICAN, INTERNATIONAL, GROUP, ,), (INC, .,...</td>\n",
       "      <td>AMERICAN INTERNATIONAL GROUP,</td>\n",
       "      <td>True</td>\n",
       "      <td>(AMERICAN, INTERNATIONAL)</td>\n",
       "      <td>[February, 14, 2019]</td>\n",
       "    </tr>\n",
       "    <tr>\n",
       "      <td>3481</td>\n",
       "      <td>AMERICAN INTERNATIONAL GROUP, INC. FQ4 2018 EA...</td>\n",
       "      <td>earnings call</td>\n",
       "      <td>FEB 14, 2019</td>\n",
       "      <td>[(AMERICAN, INTERNATIONAL, GROUP, ,), (INC, .,...</td>\n",
       "      <td>AMERICAN INTERNATIONAL GROUP,</td>\n",
       "      <td>True</td>\n",
       "      <td>(AMERICAN, INTERNATIONAL)</td>\n",
       "      <td>[February, 14, 2019]</td>\n",
       "    </tr>\n",
       "    <tr>\n",
       "      <td>3482</td>\n",
       "      <td>AMERICAN INTERNATIONAL GROUP, INC. FQ4 2018 EA...</td>\n",
       "      <td>earnings call</td>\n",
       "      <td>FEB 14, 2019</td>\n",
       "      <td>[(AMERICAN, INTERNATIONAL, GROUP, ,), (INC, .,...</td>\n",
       "      <td>AMERICAN INTERNATIONAL GROUP,</td>\n",
       "      <td>True</td>\n",
       "      <td>(AMERICAN, INTERNATIONAL)</td>\n",
       "      <td>[February, 14, 2019]</td>\n",
       "    </tr>\n",
       "    <tr>\n",
       "      <td>3483</td>\n",
       "      <td>AMERICAN INTERNATIONAL GROUP, INC. FQ4 2018 EA...</td>\n",
       "      <td>earnings call</td>\n",
       "      <td>FEB 14, 2019</td>\n",
       "      <td>[(AMERICAN, INTERNATIONAL, GROUP, ,), (INC, .,...</td>\n",
       "      <td>AMERICAN INTERNATIONAL GROUP,</td>\n",
       "      <td>True</td>\n",
       "      <td>(AMERICAN, INTERNATIONAL)</td>\n",
       "      <td>[February, 14, 2019]</td>\n",
       "    </tr>\n",
       "    <tr>\n",
       "      <td>3484</td>\n",
       "      <td>AMERICAN INTERNATIONAL GROUP, INC. FQ4 2018 EA...</td>\n",
       "      <td>earnings call</td>\n",
       "      <td>FEB 14, 2019</td>\n",
       "      <td>[(AMERICAN, INTERNATIONAL, GROUP, ,), (INC, .,...</td>\n",
       "      <td>AMERICAN INTERNATIONAL GROUP,</td>\n",
       "      <td>True</td>\n",
       "      <td>(AMERICAN, INTERNATIONAL)</td>\n",
       "      <td>[February, 14, 2019]</td>\n",
       "    </tr>\n",
       "  </tbody>\n",
       "</table>\n",
       "</div>"
      ],
      "text/plain": [
       "                                                   text            doc  \\\n",
       "3470  AEGON N.V. FH2 2018 EARNINGS CALL |  FEB 14, 2...  earnings call   \n",
       "3471  AEGON N.V. FH2 2018 EARNINGS CALL |  FEB 14, 2...  earnings call   \n",
       "3472  AEGON N.V. FH2 2018 EARNINGS CALL |  FEB 14, 2...  earnings call   \n",
       "3473  AEGON N.V. FH2 2018 EARNINGS CALL |  FEB 14, 2...  earnings call   \n",
       "3474  AEGON N.V. FH2 2018 EARNINGS CALL |  FEB 14, 2...  earnings call   \n",
       "3475   COPYRIGHT © 2019 S&P Global Market Intelligen...  earnings call   \n",
       "3476  ContentsCOPYRIGHT © 2019 S&P Global Market Int...          other   \n",
       "3477  ContentsCOPYRIGHT © 2019 S&P Global Market Int...          other   \n",
       "3478  AMERICAN INTERNATIONAL GROUP, INC. FQ4 2018 EA...  earnings call   \n",
       "3479  AMERICAN INTERNATIONAL GROUP, INC. FQ4 2018 EA...  earnings call   \n",
       "3480  AMERICAN INTERNATIONAL GROUP, INC. FQ4 2018 EA...  earnings call   \n",
       "3481  AMERICAN INTERNATIONAL GROUP, INC. FQ4 2018 EA...  earnings call   \n",
       "3482  AMERICAN INTERNATIONAL GROUP, INC. FQ4 2018 EA...  earnings call   \n",
       "3483  AMERICAN INTERNATIONAL GROUP, INC. FQ4 2018 EA...  earnings call   \n",
       "3484  AMERICAN INTERNATIONAL GROUP, INC. FQ4 2018 EA...  earnings call   \n",
       "\n",
       "             dates                                           txt_list  \\\n",
       "3470  FEB 14, 2019  [(AEGON, N.V., FH2, 2018, EARNINGS, CALL, |,  ...   \n",
       "3471  FEB 14, 2019  [(AEGON, N.V., FH2, 2018, EARNINGS, CALL, |,  ...   \n",
       "3472  FEB 14, 2019  [(AEGON, N.V., FH2, 2018, EARNINGS, CALL, |,  ...   \n",
       "3473  FEB 14, 2019  [(AEGON, N.V., FH2, 2018, EARNINGS, CALL, |,  ...   \n",
       "3474  FEB 14, 2019  [(AEGON, N.V., FH2, 2018, EARNINGS, CALL, |,  ...   \n",
       "3475          None  [( , COPYRIGHT, ©, 2019, S&P, Global, Market, ...   \n",
       "3476          None  [(ContentsCOPYRIGHT, ©, 2019, S&P, Global, Mar...   \n",
       "3477          None  [(ContentsCOPYRIGHT, ©, 2019, S&P, Global, Mar...   \n",
       "3478  FEB 14, 2019  [(AMERICAN, INTERNATIONAL, GROUP, ,), (INC, .,...   \n",
       "3479  FEB 14, 2019  [(AMERICAN, INTERNATIONAL, GROUP, ,), (INC, .,...   \n",
       "3480  FEB 14, 2019  [(AMERICAN, INTERNATIONAL, GROUP, ,), (INC, .,...   \n",
       "3481  FEB 14, 2019  [(AMERICAN, INTERNATIONAL, GROUP, ,), (INC, .,...   \n",
       "3482  FEB 14, 2019  [(AMERICAN, INTERNATIONAL, GROUP, ,), (INC, .,...   \n",
       "3483  FEB 14, 2019  [(AMERICAN, INTERNATIONAL, GROUP, ,), (INC, .,...   \n",
       "3484  FEB 14, 2019  [(AMERICAN, INTERNATIONAL, GROUP, ,), (INC, .,...   \n",
       "\n",
       "                                                heading  match  \\\n",
       "3470       AEGON N.V. FH2 2018 EARNINGS CALL |  FEB 14,   True   \n",
       "3471       AEGON N.V. FH2 2018 EARNINGS CALL |  FEB 14,   True   \n",
       "3472       AEGON N.V. FH2 2018 EARNINGS CALL |  FEB 14,   True   \n",
       "3473       AEGON N.V. FH2 2018 EARNINGS CALL |  FEB 14,   True   \n",
       "3474       AEGON N.V. FH2 2018 EARNINGS CALL |  FEB 14,   True   \n",
       "3475   COPYRIGHT © 2019 S&P Global Market Intelligen...  False   \n",
       "3476  ContentsCOPYRIGHT © 2019 S&P Global Market Int...  False   \n",
       "3477  ContentsCOPYRIGHT © 2019 S&P Global Market Int...  False   \n",
       "3478                      AMERICAN INTERNATIONAL GROUP,   True   \n",
       "3479                      AMERICAN INTERNATIONAL GROUP,   True   \n",
       "3480                      AMERICAN INTERNATIONAL GROUP,   True   \n",
       "3481                      AMERICAN INTERNATIONAL GROUP,   True   \n",
       "3482                      AMERICAN INTERNATIONAL GROUP,   True   \n",
       "3483                      AMERICAN INTERNATIONAL GROUP,   True   \n",
       "3484                      AMERICAN INTERNATIONAL GROUP,   True   \n",
       "\n",
       "                        company                  date  \n",
       "3470              (AEGON, N.V.)  [February, 14, 2019]  \n",
       "3471              (AEGON, N.V.)  [February, 14, 2019]  \n",
       "3472              (AEGON, N.V.)  [February, 14, 2019]  \n",
       "3473              (AEGON, N.V.)  [February, 14, 2019]  \n",
       "3474              (AEGON, N.V.)  [February, 14, 2019]  \n",
       "3475     (ContentsCOPYRIGHT, ©)  [February, 14, 2019]  \n",
       "3476     (ContentsCOPYRIGHT, ©)  [February, 14, 2019]  \n",
       "3477     (ContentsCOPYRIGHT, ©)  [February, 14, 2019]  \n",
       "3478  (AMERICAN, INTERNATIONAL)  [February, 14, 2019]  \n",
       "3479  (AMERICAN, INTERNATIONAL)  [February, 14, 2019]  \n",
       "3480  (AMERICAN, INTERNATIONAL)  [February, 14, 2019]  \n",
       "3481  (AMERICAN, INTERNATIONAL)  [February, 14, 2019]  \n",
       "3482  (AMERICAN, INTERNATIONAL)  [February, 14, 2019]  \n",
       "3483  (AMERICAN, INTERNATIONAL)  [February, 14, 2019]  \n",
       "3484  (AMERICAN, INTERNATIONAL)  [February, 14, 2019]  "
      ]
     },
     "execution_count": 317,
     "metadata": {},
     "output_type": "execute_result"
    }
   ],
   "source": [
    "#print(df['text'].iloc[3478])\n",
    "#print(df['text'].iloc[3477])\n",
    "#print(str(df['heading'].iloc[866]) == str(df['heading'].iloc[865]))\n",
    "df.iloc[3470:3485]"
   ]
  },
  {
   "cell_type": "code",
   "execution_count": 318,
   "metadata": {},
   "outputs": [
    {
     "name": "stderr",
     "output_type": "stream",
     "text": [
      "/Users/ahmedalali/anaconda3/lib/python3.6/site-packages/pandas/core/indexing.py:205: SettingWithCopyWarning: \n",
      "A value is trying to be set on a copy of a slice from a DataFrame\n",
      "\n",
      "See the caveats in the documentation: http://pandas.pydata.org/pandas-docs/stable/user_guide/indexing.html#returning-a-view-versus-a-copy\n",
      "  self._setitem_with_indexer(indexer, value)\n"
     ]
    }
   ],
   "source": [
    "for i in range(len(df['dates'])):\n",
    "    if df['match'].iloc[i] == False:\n",
    "        df['dates'].iloc[i] = df['dates'].iloc[i+3]"
   ]
  },
  {
   "cell_type": "code",
   "execution_count": 319,
   "metadata": {},
   "outputs": [
    {
     "data": {
      "text/html": [
       "<div>\n",
       "<style scoped>\n",
       "    .dataframe tbody tr th:only-of-type {\n",
       "        vertical-align: middle;\n",
       "    }\n",
       "\n",
       "    .dataframe tbody tr th {\n",
       "        vertical-align: top;\n",
       "    }\n",
       "\n",
       "    .dataframe thead th {\n",
       "        text-align: right;\n",
       "    }\n",
       "</style>\n",
       "<table border=\"1\" class=\"dataframe\">\n",
       "  <thead>\n",
       "    <tr style=\"text-align: right;\">\n",
       "      <th></th>\n",
       "      <th>text</th>\n",
       "      <th>doc</th>\n",
       "      <th>dates</th>\n",
       "      <th>txt_list</th>\n",
       "      <th>heading</th>\n",
       "      <th>match</th>\n",
       "      <th>company</th>\n",
       "      <th>date</th>\n",
       "    </tr>\n",
       "  </thead>\n",
       "  <tbody>\n",
       "  </tbody>\n",
       "</table>\n",
       "</div>"
      ],
      "text/plain": [
       "Empty DataFrame\n",
       "Columns: [text, doc, dates, txt_list, heading, match, company, date]\n",
       "Index: []"
      ]
     },
     "execution_count": 319,
     "metadata": {},
     "output_type": "execute_result"
    }
   ],
   "source": [
    "df[df['dates'].isnull()]"
   ]
  },
  {
   "cell_type": "code",
   "execution_count": 320,
   "metadata": {},
   "outputs": [
    {
     "data": {
      "text/html": [
       "<div>\n",
       "<style scoped>\n",
       "    .dataframe tbody tr th:only-of-type {\n",
       "        vertical-align: middle;\n",
       "    }\n",
       "\n",
       "    .dataframe tbody tr th {\n",
       "        vertical-align: top;\n",
       "    }\n",
       "\n",
       "    .dataframe thead th {\n",
       "        text-align: right;\n",
       "    }\n",
       "</style>\n",
       "<table border=\"1\" class=\"dataframe\">\n",
       "  <thead>\n",
       "    <tr style=\"text-align: right;\">\n",
       "      <th></th>\n",
       "      <th>text</th>\n",
       "      <th>doc</th>\n",
       "      <th>dates</th>\n",
       "      <th>txt_list</th>\n",
       "      <th>heading</th>\n",
       "      <th>match</th>\n",
       "      <th>company</th>\n",
       "      <th>date</th>\n",
       "    </tr>\n",
       "  </thead>\n",
       "  <tbody>\n",
       "  </tbody>\n",
       "</table>\n",
       "</div>"
      ],
      "text/plain": [
       "Empty DataFrame\n",
       "Columns: [text, doc, dates, txt_list, heading, match, company, date]\n",
       "Index: []"
      ]
     },
     "execution_count": 320,
     "metadata": {},
     "output_type": "execute_result"
    }
   ],
   "source": [
    "df[df['dates'] == 'NaT']"
   ]
  },
  {
   "cell_type": "code",
   "execution_count": 321,
   "metadata": {},
   "outputs": [
    {
     "data": {
      "text/plain": [
       "'MAY16, 2019Copyright ©'"
      ]
     },
     "execution_count": 321,
     "metadata": {},
     "output_type": "execute_result"
    }
   ],
   "source": [
    "x = df['text'].iloc[669].split()\n",
    "\n",
    "' '.join(x[x.index('|')+1:x.index('|')+4])#[:-9]"
   ]
  },
  {
   "cell_type": "code",
   "execution_count": 332,
   "metadata": {},
   "outputs": [
    {
     "name": "stderr",
     "output_type": "stream",
     "text": [
      "/Users/ahmedalali/anaconda3/lib/python3.6/site-packages/pandas/core/indexing.py:205: SettingWithCopyWarning: \n",
      "A value is trying to be set on a copy of a slice from a DataFrame\n",
      "\n",
      "See the caveats in the documentation: http://pandas.pydata.org/pandas-docs/stable/user_guide/indexing.html#returning-a-view-versus-a-copy\n",
      "  self._setitem_with_indexer(indexer, value)\n"
     ]
    }
   ],
   "source": [
    "for i in range(len(df['dates'])):\n",
    "    df['dates'].iloc[i] = pd.to_datetime(df['dates'].iloc[i], errors = 'ignore')"
   ]
  },
  {
   "cell_type": "code",
   "execution_count": 323,
   "metadata": {},
   "outputs": [
    {
     "data": {
      "text/plain": [
       "str"
      ]
     },
     "execution_count": 323,
     "metadata": {},
     "output_type": "execute_result"
    }
   ],
   "source": [
    "type(df['dates'].iloc[667])"
   ]
  },
  {
   "cell_type": "code",
   "execution_count": 324,
   "metadata": {},
   "outputs": [
    {
     "data": {
      "text/html": [
       "<div>\n",
       "<style scoped>\n",
       "    .dataframe tbody tr th:only-of-type {\n",
       "        vertical-align: middle;\n",
       "    }\n",
       "\n",
       "    .dataframe tbody tr th {\n",
       "        vertical-align: top;\n",
       "    }\n",
       "\n",
       "    .dataframe thead th {\n",
       "        text-align: right;\n",
       "    }\n",
       "</style>\n",
       "<table border=\"1\" class=\"dataframe\">\n",
       "  <thead>\n",
       "    <tr style=\"text-align: right;\">\n",
       "      <th></th>\n",
       "      <th>text</th>\n",
       "      <th>doc</th>\n",
       "      <th>dates</th>\n",
       "      <th>txt_list</th>\n",
       "      <th>heading</th>\n",
       "      <th>match</th>\n",
       "      <th>company</th>\n",
       "      <th>date</th>\n",
       "    </tr>\n",
       "  </thead>\n",
       "  <tbody>\n",
       "  </tbody>\n",
       "</table>\n",
       "</div>"
      ],
      "text/plain": [
       "Empty DataFrame\n",
       "Columns: [text, doc, dates, txt_list, heading, match, company, date]\n",
       "Index: []"
      ]
     },
     "execution_count": 324,
     "metadata": {},
     "output_type": "execute_result"
    }
   ],
   "source": [
    "df[df['dates'].apply(lambda x: isinstance(x, pd._libs.tslibs.nattype.NaTType))]"
   ]
  },
  {
   "cell_type": "code",
   "execution_count": 338,
   "metadata": {},
   "outputs": [
    {
     "data": {
      "text/html": [
       "<div>\n",
       "<style scoped>\n",
       "    .dataframe tbody tr th:only-of-type {\n",
       "        vertical-align: middle;\n",
       "    }\n",
       "\n",
       "    .dataframe tbody tr th {\n",
       "        vertical-align: top;\n",
       "    }\n",
       "\n",
       "    .dataframe thead th {\n",
       "        text-align: right;\n",
       "    }\n",
       "</style>\n",
       "<table border=\"1\" class=\"dataframe\">\n",
       "  <thead>\n",
       "    <tr style=\"text-align: right;\">\n",
       "      <th></th>\n",
       "      <th>text</th>\n",
       "      <th>doc</th>\n",
       "      <th>dates</th>\n",
       "      <th>txt_list</th>\n",
       "      <th>heading</th>\n",
       "      <th>match</th>\n",
       "      <th>company</th>\n",
       "      <th>date</th>\n",
       "    </tr>\n",
       "  </thead>\n",
       "  <tbody>\n",
       "    <tr>\n",
       "      <td>0</td>\n",
       "      <td>COPYRIGHT © 2019 S&amp;P Global Market Intelligen...</td>\n",
       "      <td>other</td>\n",
       "      <td>2019-05-06 00:00:00</td>\n",
       "      <td>[( , COPYRIGHT, ©, 2019, S&amp;P, Global, Market, ...</td>\n",
       "      <td>COPYRIGHT © 2019 S&amp;P Global Market Intelligen...</td>\n",
       "      <td>False</td>\n",
       "      <td>None</td>\n",
       "      <td>None</td>\n",
       "    </tr>\n",
       "    <tr>\n",
       "      <td>1</td>\n",
       "      <td>ContentsCOPYRIGHT © 2019 S&amp;P Global Market Int...</td>\n",
       "      <td>other</td>\n",
       "      <td>2019-05-06 00:00:00</td>\n",
       "      <td>[(ContentsCOPYRIGHT, ©, 2019, S&amp;P, Global, Mar...</td>\n",
       "      <td>ContentsCOPYRIGHT © 2019 S&amp;P Global Market Int...</td>\n",
       "      <td>False</td>\n",
       "      <td>None</td>\n",
       "      <td>None</td>\n",
       "    </tr>\n",
       "    <tr>\n",
       "      <td>2</td>\n",
       "      <td>BANCO BRADESCO S.A. SPECIAL CALL |  MAY 06, 20...</td>\n",
       "      <td>other</td>\n",
       "      <td>2019-05-06 00:00:00</td>\n",
       "      <td>[(BANCO, BRADESCO, S.A., SPECIAL, CALL, |,  ),...</td>\n",
       "      <td>BANCO BRADESCO S.A. SPECIAL CALL |</td>\n",
       "      <td>True</td>\n",
       "      <td>BANCO BRADESCO</td>\n",
       "      <td>None</td>\n",
       "    </tr>\n",
       "    <tr>\n",
       "      <td>3</td>\n",
       "      <td>BANCO BRADESCO S.A. SPECIAL CALL |  MAY 06, 20...</td>\n",
       "      <td>other</td>\n",
       "      <td>2019-05-06 00:00:00</td>\n",
       "      <td>[(BANCO, BRADESCO, S.A., SPECIAL, CALL, |,  ),...</td>\n",
       "      <td>BANCO BRADESCO S.A. SPECIAL CALL |</td>\n",
       "      <td>True</td>\n",
       "      <td>BANCO BRADESCO</td>\n",
       "      <td>None</td>\n",
       "    </tr>\n",
       "    <tr>\n",
       "      <td>4</td>\n",
       "      <td>BANCO BRADESCO S.A. SPECIAL CALL |  MAY 06, 20...</td>\n",
       "      <td>other</td>\n",
       "      <td>2019-05-06 00:00:00</td>\n",
       "      <td>[(BANCO, BRADESCO, S.A., SPECIAL, CALL, |,  ),...</td>\n",
       "      <td>BANCO BRADESCO S.A. SPECIAL CALL |</td>\n",
       "      <td>True</td>\n",
       "      <td>BANCO BRADESCO</td>\n",
       "      <td>None</td>\n",
       "    </tr>\n",
       "  </tbody>\n",
       "</table>\n",
       "</div>"
      ],
      "text/plain": [
       "                                                text    doc  \\\n",
       "0   COPYRIGHT © 2019 S&P Global Market Intelligen...  other   \n",
       "1  ContentsCOPYRIGHT © 2019 S&P Global Market Int...  other   \n",
       "2  BANCO BRADESCO S.A. SPECIAL CALL |  MAY 06, 20...  other   \n",
       "3  BANCO BRADESCO S.A. SPECIAL CALL |  MAY 06, 20...  other   \n",
       "4  BANCO BRADESCO S.A. SPECIAL CALL |  MAY 06, 20...  other   \n",
       "\n",
       "                 dates                                           txt_list  \\\n",
       "0  2019-05-06 00:00:00  [( , COPYRIGHT, ©, 2019, S&P, Global, Market, ...   \n",
       "1  2019-05-06 00:00:00  [(ContentsCOPYRIGHT, ©, 2019, S&P, Global, Mar...   \n",
       "2  2019-05-06 00:00:00  [(BANCO, BRADESCO, S.A., SPECIAL, CALL, |,  ),...   \n",
       "3  2019-05-06 00:00:00  [(BANCO, BRADESCO, S.A., SPECIAL, CALL, |,  ),...   \n",
       "4  2019-05-06 00:00:00  [(BANCO, BRADESCO, S.A., SPECIAL, CALL, |,  ),...   \n",
       "\n",
       "                                             heading  match         company  \\\n",
       "0   COPYRIGHT © 2019 S&P Global Market Intelligen...  False            None   \n",
       "1  ContentsCOPYRIGHT © 2019 S&P Global Market Int...  False            None   \n",
       "2               BANCO BRADESCO S.A. SPECIAL CALL |     True  BANCO BRADESCO   \n",
       "3               BANCO BRADESCO S.A. SPECIAL CALL |     True  BANCO BRADESCO   \n",
       "4               BANCO BRADESCO S.A. SPECIAL CALL |     True  BANCO BRADESCO   \n",
       "\n",
       "   date  \n",
       "0  None  \n",
       "1  None  \n",
       "2  None  \n",
       "3  None  \n",
       "4  None  "
      ]
     },
     "execution_count": 338,
     "metadata": {},
     "output_type": "execute_result"
    }
   ],
   "source": [
    "df.head()"
   ]
  },
  {
   "cell_type": "raw",
   "metadata": {},
   "source": [
    "for i in range(len(df['dates'])):\n",
    "    if (df['match'].iloc[i] == False) and (df['match'].iloc[i+1] == True):\n",
    "        df['dates'].iloc[i] = df['dates'].iloc[i-1]\n",
    "    elif df['match'].iloc[i] == True:\n",
    "        df['dates'].iloc[i] = df['dates'].iloc[i-1]"
   ]
  },
  {
   "cell_type": "raw",
   "metadata": {},
   "source": [
    "# extract full date from list, mmmm dd yyyy\n",
    "months = ['January', 'February', 'March', 'April', 'May', 'June', 'July', 'August',\n",
    "            'September', 'October', 'November', 'December']\n",
    "\n",
    "df['date'] = None\n",
    "for i in range(len(df['date'])):\n",
    "    if df['dates'].iloc[i] is not None:\n",
    "        for date in df['dates'].iloc[i]:\n",
    "            for month in months:\n",
    "                if month in date:\n",
    "                    df['date'].iloc[i] = date\n",
    "                    df['date'].iloc[i] = df['date'].iloc[i].replace(',', '').split()"
   ]
  },
  {
   "cell_type": "code",
   "execution_count": 337,
   "metadata": {},
   "outputs": [
    {
     "name": "stderr",
     "output_type": "stream",
     "text": [
      "/Users/ahmedalali/anaconda3/lib/python3.6/site-packages/pandas/core/indexing.py:205: SettingWithCopyWarning: \n",
      "A value is trying to be set on a copy of a slice from a DataFrame\n",
      "\n",
      "See the caveats in the documentation: http://pandas.pydata.org/pandas-docs/stable/user_guide/indexing.html#returning-a-view-versus-a-copy\n",
      "  self._setitem_with_indexer(indexer, value)\n"
     ]
    }
   ],
   "source": [
    "# exctract compaby name, first 2 words only\n",
    "df['company'] = None\n",
    "\n",
    "for i in range(len(df['heading'])): \n",
    "    if df['match'].iloc[i] == True:\n",
    "        df['company'].iloc[i] = ' '.join(df['text'].iloc[i].split()[:2])"
   ]
  },
  {
   "cell_type": "code",
   "execution_count": 339,
   "metadata": {},
   "outputs": [
    {
     "name": "stderr",
     "output_type": "stream",
     "text": [
      "/Users/ahmedalali/anaconda3/lib/python3.6/site-packages/pandas/core/indexing.py:205: SettingWithCopyWarning: \n",
      "A value is trying to be set on a copy of a slice from a DataFrame\n",
      "\n",
      "See the caveats in the documentation: http://pandas.pydata.org/pandas-docs/stable/user_guide/indexing.html#returning-a-view-versus-a-copy\n",
      "  self._setitem_with_indexer(indexer, value)\n"
     ]
    }
   ],
   "source": [
    "for i in range(len(df['company'])):\n",
    "    if (df['match'].iloc[i] == False) and (df['company'].iloc[i] == None):\n",
    "        df['company'].iloc[i] = df['company'].iloc[i+3]"
   ]
  },
  {
   "cell_type": "code",
   "execution_count": 374,
   "metadata": {},
   "outputs": [],
   "source": [
    "dfe = df[df['doc'] == 'earnings call']"
   ]
  },
  {
   "cell_type": "code",
   "execution_count": 388,
   "metadata": {},
   "outputs": [],
   "source": [
    "dff = dfe.groupby(['company', 'dates']).agg({'company' : 'first', 'dates' : 'first', 'text':'sum'})"
   ]
  },
  {
   "cell_type": "code",
   "execution_count": 389,
   "metadata": {},
   "outputs": [],
   "source": [
    "dff.reset_index(inplace = True, drop=True)"
   ]
  },
  {
   "cell_type": "code",
   "execution_count": 390,
   "metadata": {},
   "outputs": [
    {
     "data": {
      "text/html": [
       "<div>\n",
       "<style scoped>\n",
       "    .dataframe tbody tr th:only-of-type {\n",
       "        vertical-align: middle;\n",
       "    }\n",
       "\n",
       "    .dataframe tbody tr th {\n",
       "        vertical-align: top;\n",
       "    }\n",
       "\n",
       "    .dataframe thead th {\n",
       "        text-align: right;\n",
       "    }\n",
       "</style>\n",
       "<table border=\"1\" class=\"dataframe\">\n",
       "  <thead>\n",
       "    <tr style=\"text-align: right;\">\n",
       "      <th></th>\n",
       "      <th>company</th>\n",
       "      <th>dates</th>\n",
       "      <th>text</th>\n",
       "    </tr>\n",
       "  </thead>\n",
       "  <tbody>\n",
       "    <tr>\n",
       "      <td>0</td>\n",
       "      <td>3M COMPANY</td>\n",
       "      <td>2019-07-25 00:00:00</td>\n",
       "      <td>COPYRIGHT © 2019 S&amp;P Global Market Intelligen...</td>\n",
       "    </tr>\n",
       "    <tr>\n",
       "      <td>1</td>\n",
       "      <td>A.P. MØLLER</td>\n",
       "      <td>2019-05-24 00:00:00</td>\n",
       "      <td>COPYRIGHT © 2019 S&amp;P Global Market Intelligen...</td>\n",
       "    </tr>\n",
       "    <tr>\n",
       "      <td>2</td>\n",
       "      <td>A.P. MØLLER</td>\n",
       "      <td>2019-08-15 00:00:00</td>\n",
       "      <td>COPYRIGHT © 2019 S&amp;P Global Market Intelligen...</td>\n",
       "    </tr>\n",
       "    <tr>\n",
       "      <td>3</td>\n",
       "      <td>AB VOLVO</td>\n",
       "      <td>2019-01-30 00:00:00</td>\n",
       "      <td>COPYRIGHT © 2019 S&amp;P Global Market Intelligen...</td>\n",
       "    </tr>\n",
       "    <tr>\n",
       "      <td>4</td>\n",
       "      <td>AB VOLVO</td>\n",
       "      <td>2019-04-24 00:00:00</td>\n",
       "      <td>COPYRIGHT © 2019 S&amp;P Global Market Intelligen...</td>\n",
       "    </tr>\n",
       "    <tr>\n",
       "      <td>5</td>\n",
       "      <td>AB VOLVO</td>\n",
       "      <td>2019-07-18 00:00:00</td>\n",
       "      <td>COPYRIGHT © 2019 S&amp;P Global Market Intelligen...</td>\n",
       "    </tr>\n",
       "    <tr>\n",
       "      <td>6</td>\n",
       "      <td>ABB LTD</td>\n",
       "      <td>2019-02-28 00:00:00</td>\n",
       "      <td>COPYRIGHT © 2019 S&amp;P Global Market Intelligen...</td>\n",
       "    </tr>\n",
       "    <tr>\n",
       "      <td>7</td>\n",
       "      <td>ABB LTD</td>\n",
       "      <td>2019-07-25 00:00:00</td>\n",
       "      <td>COPYRIGHT © 2019 S&amp;P Global Market Intelligen...</td>\n",
       "    </tr>\n",
       "    <tr>\n",
       "      <td>8</td>\n",
       "      <td>ABBOTT LABORATORIES</td>\n",
       "      <td>2019-07-17 00:00:00</td>\n",
       "      <td>COPYRIGHT © 2019 S&amp;P Global Market Intelligen...</td>\n",
       "    </tr>\n",
       "    <tr>\n",
       "      <td>9</td>\n",
       "      <td>ABBVIE INC.</td>\n",
       "      <td>2019-07-26 00:00:00</td>\n",
       "      <td>COPYRIGHT © 2019 S&amp;P Global Market Intelligen...</td>\n",
       "    </tr>\n",
       "    <tr>\n",
       "      <td>10</td>\n",
       "      <td>ACCENTURE PLC</td>\n",
       "      <td>2019-06-27 00:00:00</td>\n",
       "      <td>COPYRIGHT © 2019 S&amp;P Global Market Intelligen...</td>\n",
       "    </tr>\n",
       "    <tr>\n",
       "      <td>11</td>\n",
       "      <td>ACCENTURE PLC</td>\n",
       "      <td>2019-09-26 00:00:00</td>\n",
       "      <td>COPYRIGHT © 2019 S&amp;P Global Market Intelligen...</td>\n",
       "    </tr>\n",
       "    <tr>\n",
       "      <td>12</td>\n",
       "      <td>ACS, ACTIVIDADES</td>\n",
       "      <td>FEB 28,2019Co</td>\n",
       "      <td>COPYRIGHT © 2019 S&amp;P Global Market Intelligen...</td>\n",
       "    </tr>\n",
       "    <tr>\n",
       "      <td>13</td>\n",
       "      <td>ACS, ACTIVIDADES</td>\n",
       "      <td>JUL 29,2019Co</td>\n",
       "      <td>COPYRIGHT © 2019 S&amp;P Global Market Intelligen...</td>\n",
       "    </tr>\n",
       "    <tr>\n",
       "      <td>14</td>\n",
       "      <td>ADECCO GROUP</td>\n",
       "      <td>2019-02-28 00:00:00</td>\n",
       "      <td>COPYRIGHT © 2019 S&amp;P Global Market Intelligen...</td>\n",
       "    </tr>\n",
       "    <tr>\n",
       "      <td>15</td>\n",
       "      <td>ADECCO GROUP</td>\n",
       "      <td>2019-05-07 00:00:00</td>\n",
       "      <td>COPYRIGHT © 2019 S&amp;P Global Market Intelligen...</td>\n",
       "    </tr>\n",
       "    <tr>\n",
       "      <td>16</td>\n",
       "      <td>ADECCO GROUP</td>\n",
       "      <td>2019-08-08 00:00:00</td>\n",
       "      <td>COPYRIGHT © 2019 S&amp;P Global Market Intelligen...</td>\n",
       "    </tr>\n",
       "    <tr>\n",
       "      <td>17</td>\n",
       "      <td>ADIDAS AG</td>\n",
       "      <td>2019-05-03 00:00:00</td>\n",
       "      <td>COPYRIGHT © 2019 S&amp;P Global Market Intelligen...</td>\n",
       "    </tr>\n",
       "    <tr>\n",
       "      <td>18</td>\n",
       "      <td>ADIDAS AG</td>\n",
       "      <td>2019-08-08 00:00:00</td>\n",
       "      <td>COPYRIGHT © 2019 S&amp;P Global Market Intelligen...</td>\n",
       "    </tr>\n",
       "    <tr>\n",
       "      <td>19</td>\n",
       "      <td>AEGON N.V.</td>\n",
       "      <td>2019-02-14 00:00:00</td>\n",
       "      <td>COPYRIGHT © 2019 S&amp;P Global Market Intelligen...</td>\n",
       "    </tr>\n",
       "  </tbody>\n",
       "</table>\n",
       "</div>"
      ],
      "text/plain": [
       "                company                dates  \\\n",
       "0            3M COMPANY  2019-07-25 00:00:00   \n",
       "1           A.P. MØLLER  2019-05-24 00:00:00   \n",
       "2           A.P. MØLLER  2019-08-15 00:00:00   \n",
       "3              AB VOLVO  2019-01-30 00:00:00   \n",
       "4              AB VOLVO  2019-04-24 00:00:00   \n",
       "5              AB VOLVO  2019-07-18 00:00:00   \n",
       "6               ABB LTD  2019-02-28 00:00:00   \n",
       "7               ABB LTD  2019-07-25 00:00:00   \n",
       "8   ABBOTT LABORATORIES  2019-07-17 00:00:00   \n",
       "9           ABBVIE INC.  2019-07-26 00:00:00   \n",
       "10        ACCENTURE PLC  2019-06-27 00:00:00   \n",
       "11        ACCENTURE PLC  2019-09-26 00:00:00   \n",
       "12     ACS, ACTIVIDADES        FEB 28,2019Co   \n",
       "13     ACS, ACTIVIDADES        JUL 29,2019Co   \n",
       "14         ADECCO GROUP  2019-02-28 00:00:00   \n",
       "15         ADECCO GROUP  2019-05-07 00:00:00   \n",
       "16         ADECCO GROUP  2019-08-08 00:00:00   \n",
       "17            ADIDAS AG  2019-05-03 00:00:00   \n",
       "18            ADIDAS AG  2019-08-08 00:00:00   \n",
       "19           AEGON N.V.  2019-02-14 00:00:00   \n",
       "\n",
       "                                                 text  \n",
       "0    COPYRIGHT © 2019 S&P Global Market Intelligen...  \n",
       "1    COPYRIGHT © 2019 S&P Global Market Intelligen...  \n",
       "2    COPYRIGHT © 2019 S&P Global Market Intelligen...  \n",
       "3    COPYRIGHT © 2019 S&P Global Market Intelligen...  \n",
       "4    COPYRIGHT © 2019 S&P Global Market Intelligen...  \n",
       "5    COPYRIGHT © 2019 S&P Global Market Intelligen...  \n",
       "6    COPYRIGHT © 2019 S&P Global Market Intelligen...  \n",
       "7    COPYRIGHT © 2019 S&P Global Market Intelligen...  \n",
       "8    COPYRIGHT © 2019 S&P Global Market Intelligen...  \n",
       "9    COPYRIGHT © 2019 S&P Global Market Intelligen...  \n",
       "10   COPYRIGHT © 2019 S&P Global Market Intelligen...  \n",
       "11   COPYRIGHT © 2019 S&P Global Market Intelligen...  \n",
       "12   COPYRIGHT © 2019 S&P Global Market Intelligen...  \n",
       "13   COPYRIGHT © 2019 S&P Global Market Intelligen...  \n",
       "14   COPYRIGHT © 2019 S&P Global Market Intelligen...  \n",
       "15   COPYRIGHT © 2019 S&P Global Market Intelligen...  \n",
       "16   COPYRIGHT © 2019 S&P Global Market Intelligen...  \n",
       "17   COPYRIGHT © 2019 S&P Global Market Intelligen...  \n",
       "18   COPYRIGHT © 2019 S&P Global Market Intelligen...  \n",
       "19   COPYRIGHT © 2019 S&P Global Market Intelligen...  "
      ]
     },
     "execution_count": 390,
     "metadata": {},
     "output_type": "execute_result"
    }
   ],
   "source": [
    "dff.head(20)"
   ]
  },
  {
   "cell_type": "code",
   "execution_count": 391,
   "metadata": {},
   "outputs": [
    {
     "data": {
      "text/plain": [
       "(669, 3)"
      ]
     },
     "execution_count": 391,
     "metadata": {},
     "output_type": "execute_result"
    }
   ],
   "source": [
    "dff.shape"
   ]
  },
  {
   "cell_type": "code",
   "execution_count": 392,
   "metadata": {},
   "outputs": [
    {
     "data": {
      "text/plain": [
       "313"
      ]
     },
     "execution_count": 392,
     "metadata": {},
     "output_type": "execute_result"
    }
   ],
   "source": [
    "len(dff.company.unique())"
   ]
  },
  {
   "cell_type": "code",
   "execution_count": 393,
   "metadata": {},
   "outputs": [
    {
     "data": {
      "text/plain": [
       "2.137380191693291"
      ]
     },
     "execution_count": 393,
     "metadata": {},
     "output_type": "execute_result"
    }
   ],
   "source": [
    "dff.company.value_counts().mean()"
   ]
  },
  {
   "cell_type": "code",
   "execution_count": 394,
   "metadata": {},
   "outputs": [],
   "source": [
    "dff.to_csv('G500_Earnings_2019.csv')"
   ]
  },
  {
   "cell_type": "code",
   "execution_count": 353,
   "metadata": {},
   "outputs": [
    {
     "data": {
      "text/plain": [
       "Timestamp('2019-08-15 00:00:00')"
      ]
     },
     "execution_count": 353,
     "metadata": {},
     "output_type": "execute_result"
    }
   ],
   "source": [
    "dff['dates'].iloc[2]"
   ]
  },
  {
   "cell_type": "code",
   "execution_count": 354,
   "metadata": {},
   "outputs": [
    {
     "data": {
      "text/plain": [
       "Index(['dates', 'text', 'company'], dtype='object')"
      ]
     },
     "execution_count": 354,
     "metadata": {},
     "output_type": "execute_result"
    }
   ],
   "source": [
    "dff.columns"
   ]
  },
  {
   "cell_type": "code",
   "execution_count": 382,
   "metadata": {},
   "outputs": [],
   "source": [
    "dfx = pd.DataFrame(dff[ 'company'])"
   ]
  },
  {
   "cell_type": "code",
   "execution_count": 383,
   "metadata": {},
   "outputs": [
    {
     "data": {
      "text/html": [
       "<div>\n",
       "<style scoped>\n",
       "    .dataframe tbody tr th:only-of-type {\n",
       "        vertical-align: middle;\n",
       "    }\n",
       "\n",
       "    .dataframe tbody tr th {\n",
       "        vertical-align: top;\n",
       "    }\n",
       "\n",
       "    .dataframe thead th {\n",
       "        text-align: right;\n",
       "    }\n",
       "</style>\n",
       "<table border=\"1\" class=\"dataframe\">\n",
       "  <thead>\n",
       "    <tr style=\"text-align: right;\">\n",
       "      <th></th>\n",
       "      <th></th>\n",
       "      <th>company</th>\n",
       "    </tr>\n",
       "    <tr>\n",
       "      <th>company</th>\n",
       "      <th>dates</th>\n",
       "      <th></th>\n",
       "    </tr>\n",
       "  </thead>\n",
       "  <tbody>\n",
       "    <tr>\n",
       "      <td>3M COMPANY</td>\n",
       "      <td>2019-07-25 00:00:00</td>\n",
       "      <td>3M COMPANY</td>\n",
       "    </tr>\n",
       "    <tr>\n",
       "      <td rowspan=\"2\" valign=\"top\">A.P. MØLLER</td>\n",
       "      <td>2019-05-24 00:00:00</td>\n",
       "      <td>A.P. MØLLER</td>\n",
       "    </tr>\n",
       "    <tr>\n",
       "      <td>2019-08-15 00:00:00</td>\n",
       "      <td>A.P. MØLLER</td>\n",
       "    </tr>\n",
       "    <tr>\n",
       "      <td rowspan=\"2\" valign=\"top\">AB VOLVO</td>\n",
       "      <td>2019-01-30 00:00:00</td>\n",
       "      <td>AB VOLVO</td>\n",
       "    </tr>\n",
       "    <tr>\n",
       "      <td>2019-04-24 00:00:00</td>\n",
       "      <td>AB VOLVO</td>\n",
       "    </tr>\n",
       "  </tbody>\n",
       "</table>\n",
       "</div>"
      ],
      "text/plain": [
       "                                     company\n",
       "company     dates                           \n",
       "3M COMPANY  2019-07-25 00:00:00   3M COMPANY\n",
       "A.P. MØLLER 2019-05-24 00:00:00  A.P. MØLLER\n",
       "            2019-08-15 00:00:00  A.P. MØLLER\n",
       "AB VOLVO    2019-01-30 00:00:00     AB VOLVO\n",
       "            2019-04-24 00:00:00     AB VOLVO"
      ]
     },
     "execution_count": 383,
     "metadata": {},
     "output_type": "execute_result"
    }
   ],
   "source": [
    "dfx.head()"
   ]
  },
  {
   "cell_type": "code",
   "execution_count": null,
   "metadata": {},
   "outputs": [],
   "source": []
  }
 ],
 "metadata": {
  "kernelspec": {
   "display_name": "Python 3",
   "language": "python",
   "name": "python3"
  },
  "language_info": {
   "codemirror_mode": {
    "name": "ipython",
    "version": 3
   },
   "file_extension": ".py",
   "mimetype": "text/x-python",
   "name": "python",
   "nbconvert_exporter": "python",
   "pygments_lexer": "ipython3",
   "version": "3.6.5"
  }
 },
 "nbformat": 4,
 "nbformat_minor": 2
}
